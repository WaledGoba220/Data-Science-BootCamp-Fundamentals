{
 "cells": [
  {
   "cell_type": "markdown",
   "id": "fd9d191b",
   "metadata": {},
   "source": [
    "# <div style=\"color:#fff;display:fill;border-radius:10px;background-color:#004F98;text-align:center;letter-spacing:0.1px;overflow:hidden;padding:20px;color:white;overflow:hidden;margin:0;font-size:100%\">Implementation CNN </div>"
   ]
  },
  {
   "cell_type": "markdown",
   "id": "d4f80b2b",
   "metadata": {},
   "source": [
    "## <span style='color:#2E8BC0'> 0| Import Libraries</span>"
   ]
  },
  {
   "cell_type": "code",
   "execution_count": 1,
   "id": "38a1aedd",
   "metadata": {},
   "outputs": [],
   "source": [
    "import numpy as np\n",
    "import pandas as pd\n",
    "import matplotlib.pyplot as plt\n",
    "%matplotlib inline\n",
    "\n",
    "import keras\n",
    "import tensorflow as tf\n",
    "from tensorflow import keras\n",
    "from keras.models import Sequential\n",
    "from tensorflow.keras.layers import Input, Conv2D, Dense, Flatten, Dropout\n",
    "from tensorflow.keras.layers import GlobalMaxPooling2D, MaxPooling2D\n",
    "from tensorflow.keras.layers import BatchNormalization\n",
    "from tensorflow.keras.models import Model\n",
    "from tensorflow.keras import regularizers, optimizers\n",
    "from tensorflow.keras.utils import to_categorical\n",
    "\n",
    "from sklearn.metrics import accuracy_score\n",
    "from tensorflow.keras.datasets import cifar10"
   ]
  },
  {
   "cell_type": "markdown",
   "id": "cb51f5b3",
   "metadata": {},
   "source": [
    "## <span style='color:#2E8BC0'> 1| Reload Data</span>"
   ]
  },
  {
   "cell_type": "code",
   "execution_count": 2,
   "id": "06f6dc4d",
   "metadata": {},
   "outputs": [
    {
     "name": "stdout",
     "output_type": "stream",
     "text": [
      "Downloading data from https://www.cs.toronto.edu/~kriz/cifar-10-python.tar.gz\n",
      "170498071/170498071 [==============================] - 87s 1us/step\n"
     ]
    }
   ],
   "source": [
    "(x_train,y_train) , (x_test,y_tset) = cifar10.load_data()"
   ]
  },
  {
   "cell_type": "code",
   "execution_count": 7,
   "id": "c0dd1a2a",
   "metadata": {},
   "outputs": [
    {
     "data": {
      "text/plain": [
       "<matplotlib.image.AxesImage at 0x1b91d4afe80>"
      ]
     },
     "execution_count": 7,
     "metadata": {},
     "output_type": "execute_result"
    },
    {
     "data": {
      "image/png": "[encoded data removed]",
      "text/plain": [
       "<Figure size 432x288 with 1 Axes>"
      ]
     },
     "metadata": {
      "needs_background": "light"
     },
     "output_type": "display_data"
    }
   ],
   "source": [
    "plt.imshow(x_train[0])"
   ]
  },
  {
   "cell_type": "code",
   "execution_count": 8,
   "id": "88f45d33",
   "metadata": {},
   "outputs": [
    {
     "data": {
      "text/plain": [
       "<matplotlib.image.AxesImage at 0x1b91d51c370>"
      ]
     },
     "execution_count": 8,
     "metadata": {},
     "output_type": "execute_result"
    },
    {
     "data": {
      "image/png": "[encoded data removed]",
      "text/plain": [
       "<Figure size 432x288 with 1 Axes>"
      ]
     },
     "metadata": {
      "needs_background": "light"
     },
     "output_type": "display_data"
    }
   ],
   "source": [
    "plt.imshow(x_train[5])"
   ]
  },
  {
   "cell_type": "code",
   "execution_count": 9,
   "id": "b4c799bb",
   "metadata": {},
   "outputs": [
    {
     "data": {
      "text/plain": [
       "<matplotlib.image.AxesImage at 0x1b91d894130>"
      ]
     },
     "execution_count": 9,
     "metadata": {},
     "output_type": "execute_result"
    },
    {
     "data": {
      "image/png": "[encoded data removed]",
      "text/plain": [
       "<Figure size 432x288 with 1 Axes>"
      ]
     },
     "metadata": {
      "needs_background": "light"
     },
     "output_type": "display_data"
    }
   ],
   "source": [
    "plt.imshow(x_train[6])"
   ]
  },
  {
   "cell_type": "code",
   "execution_count": 10,
   "id": "c904c3ab",
   "metadata": {},
   "outputs": [
    {
     "data": {
      "text/plain": [
       "array([[[154, 177, 187],\n",
       "        [126, 137, 136],\n",
       "        [105, 104,  95],\n",
       "        ...,\n",
       "        [ 91,  95,  71],\n",
       "        [ 87,  90,  71],\n",
       "        [ 79,  81,  70]],\n",
       "\n",
       "       [[140, 160, 169],\n",
       "        [145, 153, 154],\n",
       "        [125, 125, 118],\n",
       "        ...,\n",
       "        [ 96,  99,  78],\n",
       "        [ 77,  80,  62],\n",
       "        [ 71,  73,  61]],\n",
       "\n",
       "       [[140, 155, 164],\n",
       "        [139, 146, 149],\n",
       "        [115, 115, 112],\n",
       "        ...,\n",
       "        [ 79,  82,  64],\n",
       "        [ 68,  70,  55],\n",
       "        [ 67,  69,  55]],\n",
       "\n",
       "       ...,\n",
       "\n",
       "       [[175, 167, 166],\n",
       "        [156, 154, 160],\n",
       "        [154, 160, 170],\n",
       "        ...,\n",
       "        [ 42,  34,  36],\n",
       "        [ 61,  53,  57],\n",
       "        [ 93,  83,  91]],\n",
       "\n",
       "       [[165, 154, 128],\n",
       "        [156, 152, 130],\n",
       "        [159, 161, 142],\n",
       "        ...,\n",
       "        [103,  93,  96],\n",
       "        [123, 114, 120],\n",
       "        [131, 121, 131]],\n",
       "\n",
       "       [[163, 148, 120],\n",
       "        [158, 148, 122],\n",
       "        [163, 156, 133],\n",
       "        ...,\n",
       "        [143, 133, 139],\n",
       "        [143, 134, 142],\n",
       "        [143, 133, 144]]], dtype=uint8)"
      ]
     },
     "execution_count": 10,
     "metadata": {},
     "output_type": "execute_result"
    }
   ],
   "source": [
    "x_train[1]"
   ]
  },
  {
   "cell_type": "markdown",
   "id": "8f06ee64",
   "metadata": {},
   "source": [
    "## <span style='color:#2E8BC0'> 2| Resize Images</span>"
   ]
  },
  {
   "cell_type": "code",
   "execution_count": 11,
   "id": "069fc504",
   "metadata": {},
   "outputs": [],
   "source": [
    "x_train = x_train/255\n",
    "x_test = x_test/255"
   ]
  },
  {
   "cell_type": "code",
   "execution_count": 17,
   "id": "e2918648",
   "metadata": {},
   "outputs": [],
   "source": [
    "## ==> This function returns a matrix of binary values (either ‘1’ or ‘0’). It has number of rows equal to the length of the input vector and number of columns equal to the number of classes.\n",
    "y_train_en = to_categorical(y_train,10)"
   ]
  },
  {
   "cell_type": "code",
   "execution_count": 18,
   "id": "48f84bcd",
   "metadata": {},
   "outputs": [],
   "source": [
    "y_test_en = to_categorical(y_tset,10)"
   ]
  },
  {
   "cell_type": "markdown",
   "id": "f4b01f7c",
   "metadata": {},
   "source": [
    "## <span style='color:#2E8BC0'> 3| Building Model</span>"
   ]
  },
  {
   "cell_type": "code",
   "execution_count": 19,
   "id": "71a58b98",
   "metadata": {},
   "outputs": [],
   "source": [
    "model = Sequential()\n",
    "model.add(Conv2D(32,(4,4),input_shape=(32,32,3),activation='relu'))\n",
    "model.add(MaxPooling2D(pool_size=(2,2)))\n",
    "model.add(Conv2D(32,(4,4),input_shape=(32,32,3),activation='relu'))\n",
    "model.add(MaxPooling2D(pool_size=(2,2)))\n",
    "\n",
    "model.add(Flatten())\n",
    "\n",
    "model.add(Dense(128,activation='relu'))\n",
    "model.add(Dense(10,activation='softmax'))"
   ]
  },
  {
   "cell_type": "code",
   "execution_count": 20,
   "id": "cb62a1f4",
   "metadata": {},
   "outputs": [],
   "source": [
    "\n",
    "model.compile(loss='categorical_crossentropy',optimizer='adam',metrics=['accuracy'])"
   ]
  },
  {
   "cell_type": "code",
   "execution_count": 21,
   "id": "8d7a14fe",
   "metadata": {},
   "outputs": [
    {
     "name": "stdout",
     "output_type": "stream",
     "text": [
      "Model: \"sequential\"\n",
      "_________________________________________________________________\n",
      " Layer (type)                Output Shape              Param #   \n",
      "=================================================================\n",
      " conv2d (Conv2D)             (None, 29, 29, 32)        1568      \n",
      "                                                                 \n",
      " max_pooling2d (MaxPooling2D  (None, 14, 14, 32)       0         \n",
      " )                                                               \n",
      "                                                                 \n",
      " conv2d_1 (Conv2D)           (None, 11, 11, 32)        16416     \n",
      "                                                                 \n",
      " max_pooling2d_1 (MaxPooling  (None, 5, 5, 32)         0         \n",
      " 2D)                                                             \n",
      "                                                                 \n",
      " flatten (Flatten)           (None, 800)               0         \n",
      "                                                                 \n",
      " dense (Dense)               (None, 128)               102528    \n",
      "                                                                 \n",
      " dense_1 (Dense)             (None, 10)                1290      \n",
      "                                                                 \n",
      "=================================================================\n",
      "Total params: 121,802\n",
      "Trainable params: 121,802\n",
      "Non-trainable params: 0\n",
      "_________________________________________________________________\n"
     ]
    }
   ],
   "source": [
    "model.summary()"
   ]
  },
  {
   "cell_type": "code",
   "execution_count": 23,
   "id": "129775e7",
   "metadata": {},
   "outputs": [
    {
     "name": "stdout",
     "output_type": "stream",
     "text": [
      "Epoch 1/20\n",
      "1563/1563 [==============================] - 14s 8ms/step - loss: 1.5346 - accuracy: 0.4403 - val_loss: 1.3112 - val_accuracy: 0.5285\n",
      "Epoch 2/20\n",
      "1563/1563 [==============================] - 14s 9ms/step - loss: 1.2187 - accuracy: 0.5691 - val_loss: 1.1971 - val_accuracy: 0.5793\n",
      "Epoch 3/20\n",
      "1563/1563 [==============================] - 14s 9ms/step - loss: 1.0832 - accuracy: 0.6181 - val_loss: 1.0809 - val_accuracy: 0.6140\n",
      "Epoch 4/20\n",
      "1563/1563 [==============================] - 13s 8ms/step - loss: 0.9903 - accuracy: 0.6535 - val_loss: 1.0545 - val_accuracy: 0.6313\n",
      "Epoch 5/20\n",
      "1563/1563 [==============================] - 11s 7ms/step - loss: 0.9162 - accuracy: 0.6786 - val_loss: 1.0435 - val_accuracy: 0.6375\n",
      "Epoch 6/20\n",
      "1563/1563 [==============================] - 10s 6ms/step - loss: 0.8584 - accuracy: 0.7010 - val_loss: 0.9845 - val_accuracy: 0.6590\n",
      "Epoch 7/20\n",
      "1563/1563 [==============================] - 11s 7ms/step - loss: 0.7993 - accuracy: 0.7210 - val_loss: 0.9899 - val_accuracy: 0.6617\n",
      "Epoch 8/20\n",
      "1563/1563 [==============================] - 10s 6ms/step - loss: 0.7550 - accuracy: 0.7367 - val_loss: 0.9924 - val_accuracy: 0.6662\n",
      "Epoch 9/20\n",
      "1563/1563 [==============================] - 12s 8ms/step - loss: 0.7162 - accuracy: 0.7491 - val_loss: 0.9763 - val_accuracy: 0.6666\n",
      "Epoch 10/20\n",
      "1563/1563 [==============================] - 13s 8ms/step - loss: 0.6771 - accuracy: 0.7635 - val_loss: 1.0169 - val_accuracy: 0.6598\n",
      "Epoch 11/20\n",
      "1563/1563 [==============================] - 13s 8ms/step - loss: 0.6399 - accuracy: 0.7765 - val_loss: 1.0310 - val_accuracy: 0.6728\n",
      "Epoch 12/20\n",
      "1563/1563 [==============================] - 12s 7ms/step - loss: 0.6085 - accuracy: 0.7869 - val_loss: 1.0242 - val_accuracy: 0.6727\n",
      "Epoch 13/20\n",
      "1563/1563 [==============================] - 9s 6ms/step - loss: 0.5720 - accuracy: 0.7982 - val_loss: 1.0586 - val_accuracy: 0.6710\n",
      "Epoch 14/20\n",
      "1563/1563 [==============================] - 10s 7ms/step - loss: 0.5435 - accuracy: 0.8075 - val_loss: 1.0916 - val_accuracy: 0.6686\n",
      "Epoch 15/20\n",
      "1563/1563 [==============================] - 12s 8ms/step - loss: 0.5151 - accuracy: 0.8187 - val_loss: 1.1137 - val_accuracy: 0.6653\n",
      "Epoch 16/20\n",
      "1563/1563 [==============================] - 10s 6ms/step - loss: 0.4893 - accuracy: 0.8262 - val_loss: 1.1501 - val_accuracy: 0.6635\n",
      "Epoch 17/20\n",
      "1563/1563 [==============================] - 11s 7ms/step - loss: 0.4603 - accuracy: 0.8360 - val_loss: 1.1876 - val_accuracy: 0.6661\n",
      "Epoch 18/20\n",
      "1563/1563 [==============================] - 11s 7ms/step - loss: 0.4390 - accuracy: 0.8437 - val_loss: 1.2301 - val_accuracy: 0.6635\n",
      "Epoch 19/20\n",
      "1563/1563 [==============================] - 9s 6ms/step - loss: 0.4138 - accuracy: 0.8518 - val_loss: 1.3109 - val_accuracy: 0.6515\n",
      "Epoch 20/20\n",
      "1563/1563 [==============================] - 11s 7ms/step - loss: 0.3934 - accuracy: 0.8604 - val_loss: 1.3180 - val_accuracy: 0.6554\n"
     ]
    }
   ],
   "source": [
    "history = model.fit(x_train, y_train_en, epochs=20,verbose=1,validation_data=(x_test,y_test_en))"
   ]
  }
 ],
 "metadata": {
  "kernelspec": {
   "display_name": "Python 3 (ipykernel)",
   "language": "python",
   "name": "python3"
  },
  "language_info": {
   "codemirror_mode": {
    "name": "ipython",
    "version": 3
   },
   "file_extension": ".py",
   "mimetype": "text/x-python",
   "name": "python",
   "nbconvert_exporter": "python",
   "pygments_lexer": "ipython3",
   "version": "3.9.12"
  }
 },
 "nbformat": 4,
 "nbformat_minor": 5
}
